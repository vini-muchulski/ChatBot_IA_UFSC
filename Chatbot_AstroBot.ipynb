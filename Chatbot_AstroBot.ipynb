{
  "cells": [
    {
      "cell_type": "markdown",
      "source": [
        "# teste json astronomia"
      ],
      "metadata": {
        "id": "pXCpin_40bi0"
      },
      "id": "pXCpin_40bi0"
    },
    {
      "cell_type": "code",
      "source": [
        "!pip install chatterbot chatterbot_corpus spacy==3.7.4 -q\n",
        "!python -m spacy download pt_core_news_sm -q"
      ],
      "metadata": {
        "colab": {
          "base_uri": "https://localhost:8080/"
        },
        "id": "48tYG2NK0gkM",
        "outputId": "1b41d801-4e30-4d8b-a14f-2749d0513da6"
      },
      "id": "48tYG2NK0gkM",
      "execution_count": 1,
      "outputs": [
        {
          "output_type": "stream",
          "name": "stdout",
          "text": [
            "\u001b[2K     \u001b[90m━━━━━━━━━━━━━━━━━━━━━━━━━━━━━━━━━━━━━━━━\u001b[0m \u001b[32m61.0/61.0 kB\u001b[0m \u001b[31m2.2 MB/s\u001b[0m eta \u001b[36m0:00:00\u001b[0m\n",
            "\u001b[2K   \u001b[90m━━━━━━━━━━━━━━━━━━━━━━━━━━━━━━━━━━━━━━━━\u001b[0m \u001b[32m6.6/6.6 MB\u001b[0m \u001b[31m52.3 MB/s\u001b[0m eta \u001b[36m0:00:00\u001b[0m\n",
            "\u001b[2K   \u001b[90m━━━━━━━━━━━━━━━━━━━━━━━━━━━━━━━━━━━━━━━━\u001b[0m \u001b[32m65.6/65.6 kB\u001b[0m \u001b[31m1.7 MB/s\u001b[0m eta \u001b[36m0:00:00\u001b[0m\n",
            "\u001b[2K   \u001b[90m━━━━━━━━━━━━━━━━━━━━━━━━━━━━━━━━━━━━━━━━\u001b[0m \u001b[32m240.5/240.5 kB\u001b[0m \u001b[31m6.7 MB/s\u001b[0m eta \u001b[36m0:00:00\u001b[0m\n",
            "\u001b[2K   \u001b[90m━━━━━━━━━━━━━━━━━━━━━━━━━━━━━━━━━━━━━━━━\u001b[0m \u001b[32m229.9/229.9 kB\u001b[0m \u001b[31m14.5 MB/s\u001b[0m eta \u001b[36m0:00:00\u001b[0m\n",
            "\u001b[2K   \u001b[90m━━━━━━━━━━━━━━━━━━━━━━━━━━━━━━━━━━━━━━━━\u001b[0m \u001b[32m57.0/57.0 kB\u001b[0m \u001b[31m3.7 MB/s\u001b[0m eta \u001b[36m0:00:00\u001b[0m\n",
            "\u001b[2K   \u001b[90m━━━━━━━━━━━━━━━━━━━━━━━━━━━━━━━━━━━━━━━━\u001b[0m \u001b[32m920.2/920.2 kB\u001b[0m \u001b[31m33.9 MB/s\u001b[0m eta \u001b[36m0:00:00\u001b[0m\n",
            "\u001b[2K   \u001b[90m━━━━━━━━━━━━━━━━━━━━━━━━━━━━━━━━━━━━━━━━\u001b[0m \u001b[32m18.3/18.3 MB\u001b[0m \u001b[31m46.1 MB/s\u001b[0m eta \u001b[36m0:00:00\u001b[0m\n",
            "\u001b[2K   \u001b[90m━━━━━━━━━━━━━━━━━━━━━━━━━━━━━━━━━━━━━━━━\u001b[0m \u001b[32m46.0/46.0 kB\u001b[0m \u001b[31m3.1 MB/s\u001b[0m eta \u001b[36m0:00:00\u001b[0m\n",
            "\u001b[2K   \u001b[90m━━━━━━━━━━━━━━━━━━━━━━━━━━━━━━━━━━━━━━━━\u001b[0m \u001b[32m50.1/50.1 kB\u001b[0m \u001b[31m3.7 MB/s\u001b[0m eta \u001b[36m0:00:00\u001b[0m\n",
            "\u001b[2K   \u001b[90m━━━━━━━━━━━━━━━━━━━━━━━━━━━━━━━━━━━━━━━━\u001b[0m \u001b[32m10.2/10.2 MB\u001b[0m \u001b[31m51.7 MB/s\u001b[0m eta \u001b[36m0:00:00\u001b[0m\n",
            "\u001b[2K   \u001b[90m━━━━━━━━━━━━━━━━━━━━━━━━━━━━━━━━━━━━━━━━\u001b[0m \u001b[32m45.0/45.0 kB\u001b[0m \u001b[31m2.5 MB/s\u001b[0m eta \u001b[36m0:00:00\u001b[0m\n",
            "\u001b[2K     \u001b[90m━━━━━━━━━━━━━━━━━━━━━━━━━━━━━━━━━━━━━━━━\u001b[0m \u001b[32m13.0/13.0 MB\u001b[0m \u001b[31m47.4 MB/s\u001b[0m eta \u001b[36m0:00:00\u001b[0m\n",
            "\u001b[?25h\u001b[38;5;2m✔ Download and installation successful\u001b[0m\n",
            "You can now load the package via spacy.load('pt_core_news_sm')\n",
            "\u001b[38;5;3m⚠ Restart to reload dependencies\u001b[0m\n",
            "If you are in a Jupyter or Colab notebook, you may need to restart Python in\n",
            "order to load all the package's dependencies. You can do this by selecting the\n",
            "'Restart kernel' or 'Restart runtime' option.\n"
          ]
        }
      ]
    },
    {
      "cell_type": "code",
      "source": [
        "import os\n",
        "os.environ['TF_ENABLE_ONEDNN_OPTS'] = '0'\n",
        "\n",
        "import json\n",
        "from chatterbot import ChatBot\n",
        "from chatterbot.trainers import ListTrainer\n",
        "from chatterbot.languages import POR"
      ],
      "metadata": {
        "id": "phf0bo1D0s6_"
      },
      "id": "phf0bo1D0s6_",
      "execution_count": 1,
      "outputs": []
    },
    {
      "cell_type": "markdown",
      "source": [
        "--------------------"
      ],
      "metadata": {
        "id": "ycYCrpVwAri4"
      },
      "id": "ycYCrpVwAri4"
    },
    {
      "cell_type": "code",
      "source": [
        "nome_arquivo_json = 'perguntas_astronomia_langchain.json'\n",
        "conversa_para_treino = []\n",
        "\n",
        "try:\n",
        "    with open(nome_arquivo_json, 'r', encoding='utf-8') as f:\n",
        "        dados_json = json.load(f)\n",
        "\n",
        "    for item in dados_json:\n",
        "        if 'pergunta' in item and 'resposta' in item:\n",
        "            conversa_para_treino.append(item['pergunta'])\n",
        "            conversa_para_treino.append(item['resposta'])\n",
        "        else:\n",
        "            print(f\"Aviso: Item inválido no JSON (sem 'pergunta' ou 'resposta'): {item}\")\n",
        "\n",
        "except FileNotFoundError:\n",
        "    print(f\"Erro: Arquivo '{nome_arquivo_json}' não encontrado.\")\n",
        "    print(\"Certifique-se de que o arquivo JSON está no mesmo diretório que o script.\")\n",
        "    exit()\n",
        "except json.JSONDecodeError:\n",
        "    print(f\"Erro: O arquivo '{nome_arquivo_json}' não contém um JSON válido.\")\n",
        "    exit()\n",
        "except Exception as e:\n",
        "    print(f\"Ocorreu um erro inesperado ao ler o JSON: {e}\")\n",
        "    exit()\n",
        "\n",
        "if not conversa_para_treino:\n",
        "    print(\"Erro: Nenhum dado válido encontrado no JSON para treinamento.\")\n",
        "    exit()"
      ],
      "metadata": {
        "id": "dsKWttr6I8HZ"
      },
      "id": "dsKWttr6I8HZ",
      "execution_count": 2,
      "outputs": []
    },
    {
      "cell_type": "code",
      "source": [
        "chatbot_astro = ChatBot(\n",
        "    \"BotAstronomico\",\n",
        "    storage_adapter='chatterbot.storage.SQLStorageAdapter',\n",
        "    database_uri='sqlite:///db_astronomia.sqlite3',\n",
        "    logic_adapters=[\n",
        "        {\n",
        "            'import_path': 'chatterbot.logic.BestMatch',\n",
        "            'default_response': 'Desculpe, não entendi bem. Poderia reformular?',\n",
        "            'maximum_similarity_threshold': 0.90\n",
        "        }\n",
        "    ],\n",
        "    tagger_language=POR\n",
        ")\n",
        "\n",
        "trainer_astro = ListTrainer(chatbot_astro)\n",
        "print(f\"Iniciando treinamento com {len(conversa_para_treino) // 2} pares de pergunta/resposta...\")\n",
        "trainer_astro.train(conversa_para_treino)\n",
        "print(\"Treinamento concluído!\")"
      ],
      "metadata": {
        "colab": {
          "base_uri": "https://localhost:8080/"
        },
        "id": "UeW4Dd63JRDN",
        "outputId": "333107b9-05e9-4b22-bf35-c941f3706519"
      },
      "id": "UeW4Dd63JRDN",
      "execution_count": 3,
      "outputs": [
        {
          "output_type": "stream",
          "name": "stdout",
          "text": [
            "Iniciando treinamento com 221 pares de pergunta/resposta...\n",
            "List Trainer: [####################] 100%\n",
            "Treinamento concluído!\n"
          ]
        }
      ]
    },
    {
      "cell_type": "code",
      "source": [
        "print(\"\\nOlá! Sou o Bot Astronômico. Pergunte-me algo sobre astronomia (digite 'parar' para sair).\")\n",
        "while True:\n",
        "    try:\n",
        "        mensagem = input(\"Você: \")\n",
        "        if mensagem.lower() == \"parar\":\n",
        "            print(\"Bot: Até a próxima!\")\n",
        "            break\n",
        "        resposta = chatbot_astro.get_response(mensagem, read_only=True)\n",
        "        print(f\"Bot: {resposta}\")\n",
        "    except (KeyboardInterrupt, EOFError):\n",
        "        print(\"\\nBot: Encerrando...\")\n",
        "        break\n",
        "    except Exception as e:\n",
        "        print(f\"Ocorreu um erro inesperado durante a conversa: {e}\")\n",
        "        break\n",
        "\n"
      ],
      "metadata": {
        "colab": {
          "base_uri": "https://localhost:8080/"
        },
        "id": "LzlaTogbJVan",
        "outputId": "cf552221-30d0-4c45-eab9-6469b386fa35"
      },
      "id": "LzlaTogbJVan",
      "execution_count": 4,
      "outputs": [
        {
          "output_type": "stream",
          "name": "stdout",
          "text": [
            "\n",
            "Olá! Sou o Bot Astronômico. Pergunte-me algo sobre astronomia (digite 'parar' para sair).\n",
            "Você: programa apollo\n",
            "Bot: A missão Apollo 11, lançada pela NASA em julho de 1969, foi um marco histórico monumental para a humanidade. Seu objetivo principal e maior feito foi realizar o primeiro pouso tripulado na Lua. Em 20 de julho de 1969, os astronautas Neil Armstrong e Buzz Aldrin se tornaram os primeiros seres humanos a caminhar na superfície lunar, enquanto Michael Collins orbitava a Lua no Módulo de Comando. Além do feito tecnológico e exploratório sem precedentes, a missão representou o ápice da 'Corrida Espacial' entre os Estados Unidos e a União Soviética, demonstrou avanços incríveis em engenharia e ciência, e inspirou gerações em todo o mundo, unindo as pessoas em um momento de admiração pela capacidade humana.\n",
            "Você: Lua Terra\n",
            "Bot: As estações do ano (primavera, verão, outono, inverno) são causadas principalmente pela inclinação do eixo de rotação da Terra em relação ao seu plano orbital ao redor do Sol (aproximadamente 23,5 graus). Devido a essa inclinação, diferentes partes da Terra recebem os raios solares de forma mais direta ou mais inclinada ao longo do ano. Quando o Hemisfério Norte está inclinado em direção ao Sol, recebe luz solar mais direta e por mais horas, resultando em verão. Seis meses depois, quando está inclinado para longe do Sol, recebe luz mais indireta, resultando em inverno. O contrário ocorre simultaneamente no Hemisfério Sul. A distância da Terra ao Sol varia um pouco, mas não é a causa principal das estações.\n",
            "Você: Legal\n",
            "Bot: Desculpe, não entendi bem. Poderia reformular?\n",
            "Você: Marte\n",
            "Bot: Sim, existe água em Marte, mas principalmente na forma de gelo. Grandes quantidades de gelo de água são encontradas nas calotas polares e também abaixo da superfície em latitudes médias. Evidências geológicas, como leitos de rios secos, deltas e minerais que se formam na presença de água, sugerem que Marte teve água líquida abundante em sua superfície no passado. Missões recentes também detectaram possíveis fluxos sazonais de água salgada (salmoura) em algumas encostas, mas a presença de grandes corpos de água líquida na superfície hoje é improvável devido à baixa pressão atmosférica e temperaturas frias.\n",
            "Você: Saturno\n",
            "Bot: Os anéis de Saturno são compostos principalmente por incontáveis partículas de gelo de água, com uma quantidade menor de poeira e material rochoso. Essas partículas variam em tamanho, desde grãos microscópicos até pedaços do tamanho de montanhas. Embora pareçam sólidos vistos da Terra, são na verdade um sistema complexo e dinâmico de pequenas luas e fragmentos orbitando o planeta.\n",
            "Você: Asteroides\n",
            "Bot: Asteroides, cometas e meteoroides são todos corpos celestes menores que planetas, mas com composições e origens diferentes. Asteroides são corpos rochosos ou metálicos que orbitam o Sol, principalmente no cinturão de asteroides entre Marte e Júpiter. Cometas são corpos gelados que orbitam o Sol em órbitas altamente elípticas; quando se aproximam do Sol, o gelo vaporiza, formando uma cauda visível. Meteoroides são pequenos fragmentos de asteroides ou cometas que viajam pelo espaço. Quando um meteoroide entra na atmosfera da Terra e queima, ele se torna um meteoro (uma 'estrela cadente'). Se um meteoroide sobrevive à passagem pela atmosfera e atinge a superfície da Terra, ele é chamado de meteorito.\n",
            "Você: parar\n",
            "Bot: Até a próxima!\n"
          ]
        }
      ]
    },
    {
      "cell_type": "code",
      "source": [
        "# Para limpar o banco de dados após a execução (se necessário para testes)\n",
        "# chatbot_astro.storage.drop()\n",
        "# print(\"Banco de dados do chatbot limpo.\")"
      ],
      "metadata": {
        "id": "FvZzHi_9JX8Z"
      },
      "id": "FvZzHi_9JX8Z",
      "execution_count": null,
      "outputs": []
    }
  ],
  "metadata": {
    "kernelspec": {
      "display_name": "Python 3",
      "language": "python",
      "name": "python3"
    },
    "language_info": {
      "codemirror_mode": {
        "name": "ipython",
        "version": 3
      },
      "file_extension": ".py",
      "mimetype": "text/x-python",
      "name": "python",
      "nbconvert_exporter": "python",
      "pygments_lexer": "ipython3",
      "version": "3.6.13"
    },
    "colab": {
      "provenance": []
    }
  },
  "nbformat": 4,
  "nbformat_minor": 5
}