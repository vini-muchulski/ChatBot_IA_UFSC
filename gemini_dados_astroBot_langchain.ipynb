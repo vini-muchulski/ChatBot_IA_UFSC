{
  "nbformat": 4,
  "nbformat_minor": 0,
  "metadata": {
    "colab": {
      "provenance": []
    },
    "kernelspec": {
      "name": "python3",
      "display_name": "Python 3"
    },
    "language_info": {
      "name": "python"
    }
  },
  "cells": [
    {
      "cell_type": "code",
      "source": [
        "!pip install langchain-google-genai  -q"
      ],
      "metadata": {
        "id": "1veNO7LEbT7V",
        "colab": {
          "base_uri": "https://localhost:8080/"
        },
        "outputId": "9ff1dc0b-b3af-4a60-bc0b-b53a22d3f1a2"
      },
      "execution_count": 1,
      "outputs": [
        {
          "output_type": "stream",
          "name": "stdout",
          "text": [
            "\u001b[2K   \u001b[90m━━━━━━━━━━━━━━━━━━━━━━━━━━━━━━━━━━━━━━━━\u001b[0m \u001b[32m42.0/42.0 kB\u001b[0m \u001b[31m515.0 kB/s\u001b[0m eta \u001b[36m0:00:00\u001b[0m\n",
            "\u001b[2K   \u001b[90m━━━━━━━━━━━━━━━━━━━━━━━━━━━━━━━━━━━━━━━━\u001b[0m \u001b[32m1.4/1.4 MB\u001b[0m \u001b[31m7.4 MB/s\u001b[0m eta \u001b[36m0:00:00\u001b[0m\n",
            "\u001b[?25h\u001b[31mERROR: pip's dependency resolver does not currently take into account all the packages that are installed. This behaviour is the source of the following dependency conflicts.\n",
            "google-generativeai 0.8.4 requires google-ai-generativelanguage==0.6.15, but you have google-ai-generativelanguage 0.6.17 which is incompatible.\u001b[0m\u001b[31m\n",
            "\u001b[0m"
          ]
        }
      ]
    },
    {
      "cell_type": "markdown",
      "source": [
        "# envio do arquivo como contexto"
      ],
      "metadata": {
        "id": "pjiIcPNMhMm6"
      }
    },
    {
      "cell_type": "code",
      "source": [
        "import google.generativeai as genai\n",
        "import time\n",
        "import json\n",
        "import os\n",
        "\n",
        "from langchain_google_genai import ChatGoogleGenerativeAI\n",
        "from langchain_core.prompts import ChatPromptTemplate\n",
        "from langchain_core.output_parsers import JsonOutputParser\n",
        "from langchain_core.pydantic_v1 import BaseModel, Field\n",
        "from typing import List\n",
        "\n",
        "\n",
        "\n",
        "from google.colab import userdata\n",
        "apiKey = userdata.get('GEMINI_API_KEY')\n",
        "print(\"Chave API carregada do Colab Userdata.\")\n",
        "\n",
        "genai.configure(api_key=apiKey)\n",
        "\n"
      ],
      "metadata": {
        "colab": {
          "base_uri": "https://localhost:8080/"
        },
        "id": "ufFavVEzi_da",
        "outputId": "e1409aef-f019-4f76-e2a7-f98304f0f43c"
      },
      "execution_count": 2,
      "outputs": [
        {
          "output_type": "stream",
          "name": "stderr",
          "text": [
            "/usr/local/lib/python3.11/dist-packages/IPython/core/interactiveshell.py:3553: LangChainDeprecationWarning: As of langchain-core 0.3.0, LangChain uses pydantic v2 internally. The langchain_core.pydantic_v1 module was a compatibility shim for pydantic v1, and should no longer be used. Please update the code to import from Pydantic directly.\n",
            "\n",
            "For example, replace imports like: `from langchain_core.pydantic_v1 import BaseModel`\n",
            "with: `from pydantic import BaseModel`\n",
            "or the v1 compatibility namespace if you are working in a code base that has not been fully upgraded to pydantic 2 yet. \tfrom pydantic.v1 import BaseModel\n",
            "\n",
            "  exec(code_obj, self.user_global_ns, self.user_ns)\n"
          ]
        },
        {
          "output_type": "stream",
          "name": "stdout",
          "text": [
            "Chave API carregada do Colab Userdata.\n"
          ]
        }
      ]
    },
    {
      "cell_type": "code",
      "source": [
        "class PerguntaResposta(BaseModel):\n",
        "    pergunta: str = Field(description=\"Uma pergunta sobre astronomia.\")\n",
        "    resposta: str = Field(description=\"Uma resposta detalhada e educativa para a pergunta.\")\n",
        "\n",
        "arquivo_json = \"perguntas_astronomia_langchain.json\"\n",
        "perguntas_existentes_lista = []\n",
        "dados_existentes = []\n",
        "\n",
        "if os.path.exists(arquivo_json):\n",
        "    try:\n",
        "        with open(arquivo_json, \"r\", encoding=\"utf-8\") as arquivo:\n",
        "            dados_existentes = json.load(arquivo)\n",
        "        if isinstance(dados_existentes, list):\n",
        "            perguntas_existentes_lista = [item.get(\"pergunta\", \"\") for item in dados_existentes if item.get(\"pergunta\")]\n",
        "            print(f\"Carregadas {len(perguntas_existentes_lista)} perguntas existentes do arquivo.\")\n",
        "        else:\n",
        "            print(f\"Aviso: Arquivo '{arquivo_json}' não contém uma lista JSON válida. Começando sem histórico.\")\n",
        "            dados_existentes = []\n",
        "    except json.JSONDecodeError:\n",
        "        print(f\"Aviso: Não foi possível decodificar JSON do arquivo existente '{arquivo_json}'. Começando sem histórico.\")\n",
        "        dados_existentes = []\n",
        "    except Exception as e:\n",
        "         print(f\"Erro ao ler o arquivo existente '{arquivo_json}': {e}. Começando sem histórico.\")\n",
        "         dados_existentes = []\n",
        "else:\n",
        "    print(f\"Arquivo '{arquivo_json}' não encontrado. Gerando as primeiras perguntas.\")"
      ],
      "metadata": {
        "colab": {
          "base_uri": "https://localhost:8080/"
        },
        "id": "TGXlF4KojJS7",
        "outputId": "9b1405de-c356-4727-bea5-2a0a2c5bcf41"
      },
      "execution_count": 3,
      "outputs": [
        {
          "output_type": "stream",
          "name": "stdout",
          "text": [
            "Carregadas 241 perguntas existentes do arquivo.\n"
          ]
        }
      ]
    },
    {
      "cell_type": "code",
      "source": [
        "MAX_PERGUNTAS_NO_PROMPT = 300\n",
        "perguntas_para_prompt = \"\\n\".join(f\"- {p}\" for p in perguntas_existentes_lista[:MAX_PERGUNTAS_NO_PROMPT])\n",
        "if not perguntas_para_prompt:\n",
        "    perguntas_para_prompt = \"Nenhuma pergunta existente fornecida.\"\n",
        "\n",
        "#(model_name=\"models/gemini-2.5-pro-exp-03-25\") # models/gemini-2.5-pro-preview-03-25     models/gemini-2.0-flash\n",
        "\n",
        "llm = ChatGoogleGenerativeAI(\n",
        "    model=\"gemini-2.5-pro-exp-03-25\",\n",
        "    google_api_key=apiKey,\n",
        "    temperature=0.5,\n",
        "    request_options={\"timeout\": 600}\n",
        ")\n",
        "\n",
        "texto_template_prompt = \"\"\"\n",
        "**Role:**\n",
        "Você é um assistente especializado em gerar dados sintéticos realistas sobre astronomia, especificamente perguntas e respostas educativas destinadas ao público geral interessado em astronomia.\n",
        "\n",
        "**Contexto:**\n",
        "O objetivo é expandir uma base de conhecimento existente para treinar modelos de linguagem. Queremos adicionar perguntas novas e interessantes que complementem as que já temos.\n",
        "\n",
        "**Perguntas Existentes:**\n",
        "Aqui estão algumas perguntas que já existem na nossa base de dados:\n",
        "{perguntas_existentes}```\n",
        "\n",
        "Instructions:\n",
        "Gere um conjunto de 10 NOVAS perguntas e respostas sobre astronomia, planetas, luas, astronáutica ou exploração espacial.\n",
        "CRÍTICO: As perguntas geradas devem ser DIFERENTES das perguntas listadas na seção \"Perguntas Existentes\". Evite repetir os mesmos tópicos ou perguntas formuladas de maneira muito similar.\n",
        "Tente gerar perguntas que COMPLEMENTEM os tópicos existentes, explorando facetas diferentes ou relacionadas aos temas gerais da astronomia e exploração espacial.\n",
        "As perguntas devem variar em complexidade.\n",
        "As respostas devem ser educativas, precisas e fáceis de entender.\n",
        "Formato OBRIGATÓRIO: Gere o conteúdo APENAS no formato JSON. O JSON deve ser uma lista de objetos, onde cada objeto tem as chaves \"pergunta\" e \"resposta\". Não inclua nenhuma introdução, explicação ou markdown json antes ou depois do JSON puro.\n",
        "Exemplo de Saída Esperada (APENAS O JSON):\n",
        "[\n",
        "{{\n",
        "\"pergunta\": \"Como as auroras boreais são formadas?\",\n",
        "\"resposta\": \"As auroras são causadas por partículas carregadas (elétrons e prótons) do Sol, trazidas pelo vento solar, que colidem com gases na alta atmosfera da Terra (principalmente oxigênio e nitrogênio). Essas colisões excitam os átomos dos gases, que liberam energia na forma de luz colorida.\"\n",
        "}},\n",
        "{{\n",
        "\"pergunta\": \"O que é a matéria escura e por que os cientistas acreditam que ela existe?\",\n",
        "\"resposta\": \"Matéria escura é uma forma hipotética de matéria que não interage com a luz (é invisível), mas exerce gravidade. Os cientistas inferem sua existência observando seus efeitos gravitacionais em galáxias e aglomerados de galáxias, como a velocidade de rotação das galáxias, que é maior do que seria esperado apenas com a matéria visível.\"\n",
        "}}\n",
        "]\n",
        "Tarefa:\n",
        "Gere 10 NOVAS perguntas e respostas sobre estrelas, a Lua, a Terra, o sistema solar, astronomia , os planetas em detalhes, luas, astronáutica ou exploração espacial que NÃO estão na lista fornecida, seguindo ESTRITAMENTE o formato JSON de lista de objetos.\n",
        "\n",
        "\"\"\""
      ],
      "metadata": {
        "id": "zkpLOhN1hPHv"
      },
      "execution_count": 16,
      "outputs": []
    },
    {
      "cell_type": "code",
      "source": [
        "prompt = ChatPromptTemplate.from_template(texto_template_prompt)\n",
        "parser = JsonOutputParser(pydantic_object=PerguntaResposta)\n",
        "chain = prompt | llm | parser"
      ],
      "metadata": {
        "id": "_yYTUHtQhoSM"
      },
      "execution_count": 17,
      "outputs": []
    },
    {
      "cell_type": "code",
      "source": [
        "prompt"
      ],
      "metadata": {
        "colab": {
          "base_uri": "https://localhost:8080/"
        },
        "id": "Cw8JAZ08jfMZ",
        "outputId": "a4a90e0c-d4f8-4dd4-c6aa-3671c059ca3c"
      },
      "execution_count": 18,
      "outputs": [
        {
          "output_type": "execute_result",
          "data": {
            "text/plain": [
              "ChatPromptTemplate(input_variables=['perguntas_existentes'], input_types={}, partial_variables={}, messages=[HumanMessagePromptTemplate(prompt=PromptTemplate(input_variables=['perguntas_existentes'], input_types={}, partial_variables={}, template='\\n**Role:**\\nVocê é um assistente especializado em gerar dados sintéticos realistas sobre astronomia, especificamente perguntas e respostas educativas destinadas ao público geral interessado em astronomia.\\n\\n**Contexto:**\\nO objetivo é expandir uma base de conhecimento existente para treinar modelos de linguagem. Queremos adicionar perguntas novas e interessantes que complementem as que já temos.\\n\\n**Perguntas Existentes:**\\nAqui estão algumas perguntas que já existem na nossa base de dados:\\n{perguntas_existentes}```\\n\\nInstructions:\\nGere um conjunto de 10 NOVAS perguntas e respostas sobre astronomia, planetas, luas, astronáutica ou exploração espacial.\\nCRÍTICO: As perguntas geradas devem ser DIFERENTES das perguntas listadas na seção \"Perguntas Existentes\". Evite repetir os mesmos tópicos ou perguntas formuladas de maneira muito similar.\\nTente gerar perguntas que COMPLEMENTEM os tópicos existentes, explorando facetas diferentes ou relacionadas aos temas gerais da astronomia e exploração espacial.\\nAs perguntas devem variar em complexidade.\\nAs respostas devem ser educativas, precisas e fáceis de entender.\\nFormato OBRIGATÓRIO: Gere o conteúdo APENAS no formato JSON. O JSON deve ser uma lista de objetos, onde cada objeto tem as chaves \"pergunta\" e \"resposta\". Não inclua nenhuma introdução, explicação ou markdown json antes ou depois do JSON puro.\\nExemplo de Saída Esperada (APENAS O JSON):\\n[\\n{{\\n\"pergunta\": \"Como as auroras boreais são formadas?\",\\n\"resposta\": \"As auroras são causadas por partículas carregadas (elétrons e prótons) do Sol, trazidas pelo vento solar, que colidem com gases na alta atmosfera da Terra (principalmente oxigênio e nitrogênio). Essas colisões excitam os átomos dos gases, que liberam energia na forma de luz colorida.\"\\n}},\\n{{\\n\"pergunta\": \"O que é a matéria escura e por que os cientistas acreditam que ela existe?\",\\n\"resposta\": \"Matéria escura é uma forma hipotética de matéria que não interage com a luz (é invisível), mas exerce gravidade. Os cientistas inferem sua existência observando seus efeitos gravitacionais em galáxias e aglomerados de galáxias, como a velocidade de rotação das galáxias, que é maior do que seria esperado apenas com a matéria visível.\"\\n}}\\n]\\nTarefa:\\nGere 10 NOVAS perguntas e respostas sobre estrelas, a Lua, a Terra, o sistema solar, astronomia , os planetas em detalhes, luas, astronáutica ou exploração espacial que NÃO estão na lista fornecida, seguindo ESTRITAMENTE o formato JSON de lista de objetos.\\n\\n'), additional_kwargs={})])"
            ]
          },
          "metadata": {},
          "execution_count": 18
        }
      ]
    },
    {
      "cell_type": "code",
      "source": [
        "print(\"Realizando requisição para o LLM via Langchain com contexto de perguntas existentes...\")\n",
        "novos_dados = []\n",
        "\n",
        "try:\n",
        "  start_time = time.time()\n",
        "  dados_resposta = chain.invoke({\"perguntas_existentes\": perguntas_para_prompt})\n",
        "  end_time = time.time()\n",
        "\n",
        "  print(f\"Chamada ao LLM levou {end_time - start_time:.2f} segundos.\")\n",
        "\n",
        "  if isinstance(dados_resposta, list):\n",
        "     novos_dados = dados_resposta\n",
        "     perguntas_novas_set = {item.get(\"pergunta\", \"\").strip().lower() for item in novos_dados if item.get(\"pergunta\")}\n",
        "     perguntas_existentes_set = {p.strip().lower() for p in perguntas_existentes_lista}\n",
        "     duplicatas_geradas = perguntas_novas_set.intersection(perguntas_existentes_set)\n",
        "     if duplicatas_geradas:\n",
        "         print(f\"Aviso: O LLM gerou {len(duplicatas_geradas)} perguntas que já existiam, apesar da instrução.\")\n",
        "\n",
        "  else:\n",
        "    print(\"Aviso: Os dados parseados não são uma lista. Verificando a saída do LLM e o parser.\")\n",
        "    if dados_resposta:\n",
        "         if isinstance(dados_resposta, dict) and \"pergunta\" in dados_resposta:\n",
        "             novos_dados = [dados_resposta]\n",
        "             print(\"Aviso: Tratado como lista de um item.\")\n",
        "\n",
        "\n",
        "except Exception as e:\n",
        "  print(f\"Erro durante a execução da cadeia Langchain ou parsing: {e}\")\n",
        "\n"
      ],
      "metadata": {
        "colab": {
          "base_uri": "https://localhost:8080/"
        },
        "id": "nRvRsx_Khs20",
        "outputId": "4396b6ec-b455-4f2f-b5da-0102c365f47d"
      },
      "execution_count": 26,
      "outputs": [
        {
          "output_type": "stream",
          "name": "stdout",
          "text": [
            "Realizando requisição para o LLM via Langchain com contexto de perguntas existentes...\n",
            "Chamada ao LLM levou 45.33 segundos.\n"
          ]
        }
      ]
    },
    {
      "cell_type": "code",
      "source": [
        "\"\"\"try:\n",
        "  raw_output = (prompt | llm).invoke({\"perguntas_existentes\": perguntas_para_prompt})\n",
        "  print(\"\\n--- Saída Bruta do LLM ---\")\n",
        "  print(raw_output.content)\n",
        "  print(\"------------------------\\n\")\n",
        "except Exception as llm_e:\n",
        "  print(f\"Não foi possível obter a saída bruta do LLM: {llm_e}\")\n",
        "  novos_dados = []\n",
        "  print(f\"Novos dados brutos recebidos (antes de salvar): {novos_dados}\")\"\"\""
      ],
      "metadata": {
        "id": "9B64Lw-Pkj5N"
      },
      "execution_count": null,
      "outputs": []
    },
    {
      "cell_type": "code",
      "source": [
        "print(f\"Novos dados brutos: {novos_dados}\")"
      ],
      "metadata": {
        "colab": {
          "base_uri": "https://localhost:8080/"
        },
        "id": "ffxA61P6iw52",
        "outputId": "d74b4ea3-c2f8-457e-db88-fadb62b5d450"
      },
      "execution_count": 27,
      "outputs": [
        {
          "output_type": "stream",
          "name": "stdout",
          "text": [
            "Novos dados brutos: [{'pergunta': 'O que são erupções solares (solar flares) e como elas podem afetar a Terra?', 'resposta': 'Erupções solares são explosões intensas de radiação na superfície do Sol, liberando energia e partículas carregadas. Quando direcionadas à Terra, essas partículas podem interagir com nosso campo magnético e atmosfera, causando auroras mais intensas, interferindo em comunicações de rádio, redes elétricas e satélites, um fenômeno conhecido como clima espacial.'}, {'pergunta': 'De onde vêm os elementos químicos mais pesados que o hidrogênio e o hélio, como o carbono e o oxigênio que formam a vida?', 'resposta': 'Esses elementos são criados no interior das estrelas através da fusão nuclear (nucleossíntese estelar). Estrelas como o Sol fundem hidrogênio em hélio. Estrelas mais massivas podem fundir elementos mais pesados, como carbono, oxigênio, até ferro. Elementos ainda mais pesados que o ferro são formados principalmente durante eventos cósmicos energéticos, como explosões de supernova ou colisões de estrelas de nêutrons.'}, {'pergunta': 'O que é o Limite de Roche e por que ele é importante para luas e anéis planetários?', 'resposta': 'O Limite de Roche é a distância mínima que um corpo celeste mantido unido apenas pela própria gravidade (como uma lua ou cometa) pode se aproximar de um corpo celeste massivo (como um planeta) sem ser desintegrado pelas forças de maré gravitacionais do corpo maior. Se um objeto cruza esse limite, a diferença na atração gravitacional entre o lado mais próximo e o mais distante o despedaça. Acredita-se que muitos anéis planetários sejam formados por material de luas ou cometas que cruzaram o Limite de Roche do planeta.'}, {'pergunta': 'O que é poluição luminosa e como ela atrapalha a observação astronômica?', 'resposta': 'Poluição luminosa é o excesso de luz artificial (de iluminação pública, edifícios, publicidade, etc.) que é emitida ou refletida para o céu noturno. Essa luz dispersa na atmosfera cria um brilho difuso que ofusca a luz tênue de estrelas, nebulosas e galáxias distantes, reduzindo drasticamente a visibilidade do céu noturno e dificultando a observação astronômica, tanto para amadores quanto para observatórios profissionais terrestres.'}, {'pergunta': \"O que significa dizer que um planeta passou por 'diferenciação planetária'?\", 'resposta': 'Diferenciação planetária é o processo geológico pelo qual os materiais dentro de um corpo planetário (planeta, planeta anão, lua grande) se separam e se organizam em camadas concêntricas de acordo com sua densidade. Nos primórdios da formação, quando o corpo estava quente e parcialmente derretido, materiais mais densos (como ferro e níquel) afundaram para formar o núcleo central, enquanto materiais mais leves (rochas de silicato) flutuaram para formar o manto e a crosta.'}, {'pergunta': 'Qual foi uma descoberta importante feita pelos rovers Curiosity ou Perseverance em Marte sobre a habitabilidade passada do planeta?', 'resposta': 'Ambos os rovers encontraram fortes evidências geológicas e químicas de que Marte teve ambientes aquáticos persistentes no passado que poderiam ter sido habitáveis para a vida microbiana como a conhecemos. O Curiosity, na Cratera Gale, identificou leitos de rios e lagos antigos com minerais formados em água neutra. O Perseverance, na Cratera Jezero (um antigo delta de rio), encontrou rochas sedimentares e compostos orgânicos que reforçam a ideia de um passado marciano mais quente, úmido e potencialmente habitável.'}, {'pergunta': 'Por que os planetas gigantes gasosos e de gelo (Júpiter, Saturno, Urano, Netuno) tendem a ter sistemas de anéis proeminentes, enquanto os planetas rochosos não?', 'resposta': 'As principais razões são: 1) Gravidade Intensa: Os gigantes têm campos gravitacionais muito mais fortes, capazes de capturar detritos (poeira, gelo, rochas) e manter anéis estáveis dentro do seu Limite de Roche. 2) Abundância de Luas: Eles possuem muitas luas, cujas colisões entre si ou desintegração por forças de maré podem fornecer continuamente material para os anéis. 3) Composição e Localização: Formaram-se mais longe do Sol, numa região rica em gelo de água e outros voláteis, que são componentes comuns dos anéis e puderam condensar e persistir ali.'}, {'pergunta': 'Como os astrônomos conseguem estudar a composição da atmosfera de um exoplaneta que está a anos-luz de distância?', 'resposta': \"Uma técnica chave é a espectroscopia de trânsito. Quando um exoplaneta passa na frente de sua estrela (um evento chamado trânsito), uma pequena fração da luz da estrela atravessa a atmosfera do planeta antes de chegar até nós. Diferentes gases na atmosfera absorvem comprimentos de onda específicos (cores) da luz. Ao analisar o espectro da luz da estrela durante o trânsito e compará-lo com o espectro fora do trânsito, os astrônomos podem identificar as 'assinaturas' químicas dos gases presentes na atmosfera do exoplaneta.\"}, {'pergunta': 'Além de vermos sempre a mesma face da Lua, qual outra consequência importante do acoplamento de maré (tidal locking) entre a Terra e a Lua?', 'resposta': 'O acoplamento de maré causa uma transferência gradual de momento angular da rotação da Terra para a órbita da Lua. Isso tem duas consequências principais: 1) A rotação da Terra está desacelerando muito lentamente, fazendo com que a duração dos dias aumente gradualmente (cerca de 1.8 milissegundos por século). 2) A Lua está se afastando progressivamente da Terra, a uma taxa de aproximadamente 3.8 centímetros por ano.'}, {'pergunta': 'Qual a diferença fundamental entre uma nebulosa de emissão, uma nebulosa de reflexão e uma nebulosa escura?', 'resposta': 'Todas são nuvens interestelares de gás e poeira, mas diferem na forma como interagem com a luz: 1) Nebulosa de Emissão: Brilha intensamente porque seu gás (principalmente hidrogênio) é ionizado pela radiação ultravioleta de estrelas jovens e quentes próximas, emitindo sua própria luz (frequentemente avermelhada). Ex: Nebulosa de Órion. 2) Nebulosa de Reflexão: Brilha ao refletir a luz de estrelas próximas. A poeira na nuvem espalha a luz azul de forma mais eficiente, por isso costumam parecer azuladas. Ex: Nebulosa em torno das Plêiades. 3) Nebulosa Escura: É uma nuvem tão densa de gás e poeira que bloqueia a luz de estrelas ou nebulosas brilhantes localizadas atrás dela, aparecendo como uma silhueta escura no céu. Ex: Nebulosa Cabeça de Cavalo.'}]\n"
          ]
        }
      ]
    },
    {
      "cell_type": "code",
      "source": [
        "arquivo_json = \"perguntas_astronomia_langchain.json\"\n",
        "perguntas_existentes_lista = []\n",
        "dados_existentes = []\n",
        "\n",
        "if os.path.exists(arquivo_json):\n",
        "    try:\n",
        "        with open(arquivo_json, \"r\", encoding=\"utf-8\") as arquivo:\n",
        "            dados_existentes = json.load(arquivo)\n",
        "        if isinstance(dados_existentes, list):\n",
        "            perguntas_existentes_lista = [item.get(\"pergunta\", \"\") for item in dados_existentes if item.get(\"pergunta\")]\n",
        "            print(f\"Carregadas {len(perguntas_existentes_lista)} perguntas existentes do arquivo.\")\n",
        "        else:\n",
        "            print(f\"Aviso: Arquivo '{arquivo_json}' não contém uma lista JSON válida. Começando sem histórico.\")\n",
        "            dados_existentes = []\n",
        "    except json.JSONDecodeError:\n",
        "        print(f\"Aviso: Não foi possível decodificar JSON do arquivo existente '{arquivo_json}'. Começando sem histórico.\")\n",
        "        dados_existentes = []\n",
        "    except Exception as e:\n",
        "         print(f\"Erro ao ler o arquivo existente '{arquivo_json}': {e}. Começando sem histórico.\")\n",
        "         dados_existentes = []\n",
        "else:\n",
        "    print(f\"Arquivo '{arquivo_json}' não encontrado. Gerando as primeiras perguntas.\")"
      ],
      "metadata": {
        "colab": {
          "base_uri": "https://localhost:8080/"
        },
        "id": "fd0gIi2qx5u7",
        "outputId": "e6234876-2974-407a-e3c0-a516549a100b"
      },
      "execution_count": 28,
      "outputs": [
        {
          "output_type": "stream",
          "name": "stdout",
          "text": [
            "Carregadas 271 perguntas existentes do arquivo.\n"
          ]
        }
      ]
    },
    {
      "cell_type": "code",
      "source": [
        "\n",
        "print(f\"Gerados e parseados com sucesso {len(novos_dados)} novos pares de P&R.\")\n",
        "dados_atualizados = dados_existentes + novos_dados\n",
        "print(f\"Total após combinação (pode conter duplicatas): {len(dados_atualizados)} perguntas\")\n",
        "\n",
        "\n",
        "try:\n",
        "        with open(arquivo_json, \"w\", encoding=\"utf-8\") as arquivo:\n",
        "            json.dump(dados_atualizados, arquivo, ensure_ascii=False, indent=2)\n",
        "\n",
        "        print(f\"Arquivo '{arquivo_json}' atualizado com sucesso com {len(dados_atualizados)} perguntas (incluindo possíveis duplicatas)!\")\n",
        "        if dados_atualizados:\n",
        "             # Mostra a última pergunta adicionada, que pode ser uma duplicata\n",
        "             print(f\"Última pergunta adicionada: {dados_atualizados[-1].get('pergunta', 'N/A')}\")\n",
        "except Exception as e:\n",
        "        print(f\"Erro ao escrever no arquivo JSON: {e}\")\n",
        "\n"
      ],
      "metadata": {
        "colab": {
          "base_uri": "https://localhost:8080/"
        },
        "id": "RTxLiGg5iozI",
        "outputId": "81407620-2757-4721-c7c1-1f309ffa6142"
      },
      "execution_count": 29,
      "outputs": [
        {
          "output_type": "stream",
          "name": "stdout",
          "text": [
            "Gerados e parseados com sucesso 10 novos pares de P&R.\n",
            "Total após combinação (pode conter duplicatas): 281 perguntas\n",
            "Arquivo 'perguntas_astronomia_langchain.json' atualizado com sucesso com 281 perguntas (incluindo possíveis duplicatas)!\n",
            "Última pergunta adicionada: Qual a diferença fundamental entre uma nebulosa de emissão, uma nebulosa de reflexão e uma nebulosa escura?\n"
          ]
        }
      ]
    },
    {
      "cell_type": "code",
      "source": [
        "len(dados_atualizados)"
      ],
      "metadata": {
        "colab": {
          "base_uri": "https://localhost:8080/"
        },
        "id": "kT3po5-kwsBc",
        "outputId": "2dff3877-4ea6-427e-ee70-e0372031cca2"
      },
      "execution_count": 30,
      "outputs": [
        {
          "output_type": "execute_result",
          "data": {
            "text/plain": [
              "281"
            ]
          },
          "metadata": {},
          "execution_count": 30
        }
      ]
    }
  ]
}